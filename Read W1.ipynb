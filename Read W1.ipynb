{
 "cells": [
  {
   "cell_type": "code",
   "execution_count": 1,
   "metadata": {},
   "outputs": [
    {
     "name": "stdout",
     "output_type": "stream",
     "text": [
      "Populating the interactive namespace from numpy and matplotlib\n"
     ]
    },
    {
     "name": "stderr",
     "output_type": "stream",
     "text": [
      "/apps/skylake/software/mpi/gcc/6.4.0/openmpi/3.0.0/h5py/2.7.1-python-3.6.4-serial/lib/python3.6/site-packages/h5py-2.7.1-py3.6-linux-x86_64.egg/h5py/__init__.py:36: FutureWarning: Conversion of the second argument of issubdtype from `float` to `np.floating` is deprecated. In future, it will be treated as `np.float64 == np.dtype(float).type`.\n",
      "  from ._conv import register_converters as _register_converters\n"
     ]
    }
   ],
   "source": [
    "%pylab inline\n",
    "#import mentari_v2 as mtr\n",
    "import h5py\n",
    "import os"
   ]
  },
  {
   "cell_type": "markdown",
   "metadata": {},
   "source": [
    "### Example on reading output file from mentari"
   ]
  },
  {
   "cell_type": "code",
   "execution_count": 35,
   "metadata": {},
   "outputs": [],
   "source": [
    "dirname = 'output_app/'\n",
    "filename = 'mag_'\n",
    "z_list = [0.564, 0.755]\n",
    "ext = '.hdf5'\n",
    "firstfile = 0\n",
    "lastfile = 0 \n",
    "\n",
    "#This example is to read over files on one redshift only, you can loop over z_list if necessary\n",
    "z = z_list[0] #read files on redshift = 0.564\n",
    "mass = []\n",
    "m_app = []\n",
    "m_abs = []\n",
    "filter_list = ['WISE_W1']\n",
    "\n",
    "for i in range(firstfile, lastfile+1):\n",
    "    file = dirname + filename + str(z) + '_' + str(i) + ext\n",
    "\n",
    "    with h5py.File(file, 'r') as f:\n",
    "        stellarmass = f['stellarmass']\n",
    "        m1 = f['apparent']\n",
    "        m2 = f['absolut']\n",
    "        for j in range(len(filter_list)):\n",
    "            mass.extend(stellarmass)\n",
    "            m_app.extend(m1[j])\n",
    "            m_abs.extend(m2[j])"
   ]
  },
  {
   "cell_type": "markdown",
   "metadata": {},
   "source": [
    "### Plotting stellar mass function and luminosity function"
   ]
  },
  {
   "cell_type": "code",
   "execution_count": null,
   "metadata": {},
   "outputs": [],
   "source": [
    "Hubble_h=0.73\n",
    "BoxSize = ((500**3) * 3/512)**(1/3) #32 files ~ 200Mpc\n",
    "volume = (BoxSize/Hubble_h)**3"
   ]
  },
  {
   "cell_type": "code",
   "execution_count": 31,
   "metadata": {},
   "outputs": [
    {
     "data": {
      "image/png": "[encoded data removed]",
      "text/plain": [
       "<Figure size 432x288 with 1 Axes>"
      ]
     },
     "metadata": {},
     "output_type": "display_data"
    }
   ],
   "source": [
    "#Luminosity function using apparent magnitude at z=0.5\n",
    "mi = min(m_app)\n",
    "ma = 21.5\n",
    "binwidth = 0.5\n",
    "NB = int((ma - mi) / binwidth)\n",
    "M = np.arange(mi, ma, 0.1)\n",
    "\n",
    "counts, binedges = np.histogram(m_app, range=(mi, ma), bins=NB)\n",
    "xaxeshisto = binedges[:-1] + 0.5 * binwidth\n",
    "plt.plot(xaxeshisto, counts/ volume / binwidth, 'k-', lw=1.5)\n",
    "plt.yscale('log')"
   ]
  },
  {
   "cell_type": "code",
   "execution_count": 32,
   "metadata": {},
   "outputs": [
    {
     "data": {
      "image/png": "[encoded data removed]",
      "text/plain": [
       "<Figure size 432x288 with 1 Axes>"
      ]
     },
     "metadata": {},
     "output_type": "display_data"
    }
   ],
   "source": [
    "#Luminosity function using apparent magnitude at z=0.5\n",
    "mi = min(m_abs)\n",
    "ma = -14\n",
    "binwidth = 0.2\n",
    "NB = int((ma - mi) / binwidth)\n",
    "M = np.arange(mi, ma, 0.1)\n",
    "\n",
    "counts, binedges = np.histogram(m_abs, range=(mi, ma), bins=NB)\n",
    "xaxeshisto = binedges[:-1] + 0.5 * binwidth\n",
    "plt.plot(xaxeshisto, counts/ volume / binwidth, 'k-', lw=1.5)\n",
    "plt.yscale('log')"
   ]
  },
  {
   "cell_type": "code",
   "execution_count": 33,
   "metadata": {},
   "outputs": [
    {
     "data": {
      "image/png": "[encoded data removed]",
      "text/plain": [
       "<Figure size 432x288 with 1 Axes>"
      ]
     },
     "metadata": {},
     "output_type": "display_data"
    }
   ],
   "source": [
    "mi = 7\n",
    "ma = 12\n",
    "binwidth = 0.2\n",
    "NB = int((ma - mi) / binwidth)\n",
    "M = np.arange(mi, ma, 0.1)\n",
    "\n",
    "counts, binedges = np.histogram(np.log10(mass), range=(mi, ma), bins=NB)\n",
    "xaxeshisto = binedges[:-1] + 0.5 * binwidth\n",
    "plt.plot(xaxeshisto, counts/ volume / binwidth, 'k-', lw=1.5)\n",
    "plt.yscale('log')"
   ]
  },
  {
   "cell_type": "code",
   "execution_count": null,
   "metadata": {},
   "outputs": [],
   "source": []
  },
  {
   "cell_type": "code",
   "execution_count": null,
   "metadata": {},
   "outputs": [],
   "source": []
  },
  {
   "cell_type": "code",
   "execution_count": 25,
   "metadata": {},
   "outputs": [],
   "source": []
  },
  {
   "cell_type": "code",
   "execution_count": null,
   "metadata": {},
   "outputs": [],
   "source": []
  },
  {
   "cell_type": "code",
   "execution_count": null,
   "metadata": {},
   "outputs": [],
   "source": []
  },
  {
   "cell_type": "code",
   "execution_count": null,
   "metadata": {},
   "outputs": [],
   "source": []
  },
  {
   "cell_type": "code",
   "execution_count": null,
   "metadata": {},
   "outputs": [],
   "source": []
  },
  {
   "cell_type": "code",
   "execution_count": null,
   "metadata": {},
   "outputs": [],
   "source": []
  },
  {
   "cell_type": "code",
   "execution_count": null,
   "metadata": {},
   "outputs": [],
   "source": []
  },
  {
   "cell_type": "code",
   "execution_count": null,
   "metadata": {},
   "outputs": [],
   "source": []
  },
  {
   "cell_type": "code",
   "execution_count": null,
   "metadata": {},
   "outputs": [],
   "source": []
  },
  {
   "cell_type": "code",
   "execution_count": null,
   "metadata": {},
   "outputs": [],
   "source": []
  }
 ],
 "metadata": {
  "kernelspec": {
   "display_name": "Python 3",
   "language": "python",
   "name": "python3"
  },
  "language_info": {
   "codemirror_mode": {
    "name": "ipython",
    "version": 3
   },
   "file_extension": ".py",
   "mimetype": "text/x-python",
   "name": "python",
   "nbconvert_exporter": "python",
   "pygments_lexer": "ipython3",
   "version": "3.6.4"
  }
 },
 "nbformat": 4,
 "nbformat_minor": 5
}
